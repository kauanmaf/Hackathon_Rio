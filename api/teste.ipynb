{
 "cells": [
  {
   "cell_type": "code",
   "execution_count": 1,
   "metadata": {},
   "outputs": [],
   "source": [
    "import pandas as pd\n",
    "datario_tx_precip_alerta_rio = pd.read_csv(\"database_csv/taxa_precipitacao_alertario.csv\")"
   ]
  },
  {
   "cell_type": "code",
   "execution_count": 2,
   "metadata": {},
   "outputs": [
    {
     "data": {
      "text/plain": [
       "(9710540, 9)"
      ]
     },
     "execution_count": 2,
     "metadata": {},
     "output_type": "execute_result"
    }
   ],
   "source": [
    "datario_tx_precip_alerta_rio.shape"
   ]
  },
  {
   "cell_type": "code",
   "execution_count": 19,
   "metadata": {},
   "outputs": [],
   "source": [
    "# Concatenar 'data_particao' e 'horario'\n",
    "datario_tx_precip_alerta_rio['data_hora'] = datario_tx_precip_alerta_rio['data_particao'] + ' ' + datario_tx_precip_alerta_rio['horario']\n",
    "\n",
    "# Converter para datetime\n",
    "datario_tx_precip_alerta_rio['data_hora'] = pd.to_datetime(datario_tx_precip_alerta_rio['data_hora'])\n",
    "datario_tx_precip_alerta_rio['data_particao'] = pd.to_datetime(datario_tx_precip_alerta_rio['data_particao'])\n",
    "\n"
   ]
  },
  {
   "cell_type": "code",
   "execution_count": 5,
   "metadata": {},
   "outputs": [],
   "source": [
    "num_NaT = datario_tx_precip_alerta_rio['data_hora'].isna().sum()\n",
    "num_NaT\n"
   ]
  },
  {
   "cell_type": "code",
   "execution_count": 14,
   "metadata": {},
   "outputs": [],
   "source": [
    "datario_tx_precip_alerta_rio = datario_tx_precip_alerta_rio[~pd.isna(datario_tx_precip_alerta_rio[\"data_hora\"])]"
   ]
  },
  {
   "cell_type": "code",
   "execution_count": 15,
   "metadata": {},
   "outputs": [],
   "source": [
    "estacao = datario_tx_precip_alerta_rio[\"id_estacao\"].unique()\n"
   ]
  },
  {
   "cell_type": "code",
   "execution_count": 26,
   "metadata": {},
   "outputs": [
    {
     "data": {
      "text/html": [
       "<div>\n",
       "<style scoped>\n",
       "    .dataframe tbody tr th:only-of-type {\n",
       "        vertical-align: middle;\n",
       "    }\n",
       "\n",
       "    .dataframe tbody tr th {\n",
       "        vertical-align: top;\n",
       "    }\n",
       "\n",
       "    .dataframe thead th {\n",
       "        text-align: right;\n",
       "    }\n",
       "</style>\n",
       "<table border=\"1\" class=\"dataframe\">\n",
       "  <thead>\n",
       "    <tr style=\"text-align: right;\">\n",
       "      <th></th>\n",
       "      <th>primary_key</th>\n",
       "      <th>id_estacao</th>\n",
       "      <th>acumulado_chuva_15_min</th>\n",
       "      <th>acumulado_chuva_1_h</th>\n",
       "      <th>acumulado_chuva_4_h</th>\n",
       "      <th>acumulado_chuva_24_h</th>\n",
       "      <th>acumulado_chuva_96_h</th>\n",
       "      <th>horario</th>\n",
       "      <th>data_particao</th>\n",
       "      <th>data_hora</th>\n",
       "      <th>acumulado_45min</th>\n",
       "    </tr>\n",
       "  </thead>\n",
       "  <tbody>\n",
       "  </tbody>\n",
       "</table>\n",
       "</div>"
      ],
      "text/plain": [
       "Empty DataFrame\n",
       "Columns: [primary_key, id_estacao, acumulado_chuva_15_min, acumulado_chuva_1_h, acumulado_chuva_4_h, acumulado_chuva_24_h, acumulado_chuva_96_h, horario, data_particao, data_hora, acumulado_45min]\n",
       "Index: []"
      ]
     },
     "execution_count": 26,
     "metadata": {},
     "output_type": "execute_result"
    }
   ],
   "source": [
    "datario_tx_precip_alerta_rio_red = datario_tx_precip_alerta_rio.loc[datario_tx_precip_alerta_rio['data_particao'].dt.year >= 2016].copy()\n",
    "\n",
    "datario_tx_precip_alerta_rio_red"
   ]
  },
  {
   "cell_type": "code",
   "execution_count": 25,
   "metadata": {},
   "outputs": [
    {
     "data": {
      "text/html": [
       "<div>\n",
       "<style scoped>\n",
       "    .dataframe tbody tr th:only-of-type {\n",
       "        vertical-align: middle;\n",
       "    }\n",
       "\n",
       "    .dataframe tbody tr th {\n",
       "        vertical-align: top;\n",
       "    }\n",
       "\n",
       "    .dataframe thead th {\n",
       "        text-align: right;\n",
       "    }\n",
       "</style>\n",
       "<table border=\"1\" class=\"dataframe\">\n",
       "  <thead>\n",
       "    <tr style=\"text-align: right;\">\n",
       "      <th></th>\n",
       "      <th>primary_key</th>\n",
       "      <th>id_estacao</th>\n",
       "      <th>acumulado_chuva_15_min</th>\n",
       "      <th>acumulado_chuva_1_h</th>\n",
       "      <th>acumulado_chuva_4_h</th>\n",
       "      <th>acumulado_chuva_24_h</th>\n",
       "      <th>acumulado_chuva_96_h</th>\n",
       "      <th>horario</th>\n",
       "      <th>data_particao</th>\n",
       "      <th>data_hora</th>\n",
       "      <th>acumulado_45min</th>\n",
       "    </tr>\n",
       "  </thead>\n",
       "  <tbody>\n",
       "  </tbody>\n",
       "</table>\n",
       "</div>"
      ],
      "text/plain": [
       "Empty DataFrame\n",
       "Columns: [primary_key, id_estacao, acumulado_chuva_15_min, acumulado_chuva_1_h, acumulado_chuva_4_h, acumulado_chuva_24_h, acumulado_chuva_96_h, horario, data_particao, data_hora, acumulado_45min]\n",
       "Index: []"
      ]
     },
     "execution_count": 25,
     "metadata": {},
     "output_type": "execute_result"
    }
   ],
   "source": [
    "grupo_estacao = datario_tx_precip_alerta_rio_red.groupby('id_estacao')\n",
    "\n",
    "# Calculando o acumulado de 45 minutos para cada estação\n",
    "datario_tx_precip_alerta_rio_red['acumulado_45min'] = grupo_estacao['acumulado_chuva_15_min'].rolling(window=3).sum().reset_index(drop=True)\n",
    "\n",
    "datario_tx_precip_alerta_rio_red"
   ]
  }
 ],
 "metadata": {
  "kernelspec": {
   "display_name": "Python 3",
   "language": "python",
   "name": "python3"
  },
  "language_info": {
   "codemirror_mode": {
    "name": "ipython",
    "version": 3
   },
   "file_extension": ".py",
   "mimetype": "text/x-python",
   "name": "python",
   "nbconvert_exporter": "python",
   "pygments_lexer": "ipython3",
   "version": "3.10.13"
  }
 },
 "nbformat": 4,
 "nbformat_minor": 2
}
